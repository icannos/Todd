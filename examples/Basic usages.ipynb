{
 "cells": [
  {
   "cell_type": "code",
   "execution_count": 23,
   "metadata": {
    "collapsed": true
   },
   "outputs": [],
   "source": [
    "\n",
    "import torch\n",
    "from torch.utils.data import Dataset, DataLoader\n",
    "\n",
    "from transformers import AutoModelForSeq2SeqLM, AutoTokenizer\n",
    "from toddbenchmark.generation_datasets import prep_dataset, prep_model\n",
    "from datasets import load_dataset\n"
   ]
  },
  {
   "cell_type": "code",
   "execution_count": 24,
   "outputs": [
    {
     "name": "stderr",
     "output_type": "stream",
     "text": [
      "UsageError: Line magic function `%` not found.\n"
     ]
    }
   ],
   "source": [
    "% load_ext autoreload\n",
    "% autoreload 2\n"
   ],
   "metadata": {
    "collapsed": false
   }
  },
  {
   "cell_type": "code",
   "execution_count": null,
   "outputs": [],
   "source": [
    "model, tokenizer = prep_model(\"Helsinki-NLP/opus-mt-de-en\")\n"
   ],
   "metadata": {
    "collapsed": false
   }
  },
  {
   "cell_type": "markdown",
   "source": [
    "## Load and prep dataset using ToddBenchmark"
   ],
   "metadata": {
    "collapsed": false
   }
  },
  {
   "cell_type": "code",
   "execution_count": 25,
   "outputs": [
    {
     "name": "stderr",
     "output_type": "stream",
     "text": [
      "Found cached dataset wmt16 (/home/mdarrin/.cache/huggingface/datasets/wmt16/de-en/1.0.0/746749a11d25c02058042da7502d973ff410e73457f3d305fc1177dc0e8c4227)\n"
     ]
    },
    {
     "data": {
      "text/plain": "  0%|          | 0/3 [00:00<?, ?it/s]",
      "application/vnd.jupyter.widget-view+json": {
       "version_major": 2,
       "version_minor": 0,
       "model_id": "a54434a6b4ab4accb606709665e01a03"
      }
     },
     "metadata": {},
     "output_type": "display_data"
    },
    {
     "name": "stderr",
     "output_type": "stream",
     "text": [
      "Found cached dataset wmt16 (/home/mdarrin/.cache/huggingface/datasets/wmt16/ro-en/1.0.0/746749a11d25c02058042da7502d973ff410e73457f3d305fc1177dc0e8c4227)\n"
     ]
    },
    {
     "data": {
      "text/plain": "  0%|          | 0/3 [00:00<?, ?it/s]",
      "application/vnd.jupyter.widget-view+json": {
       "version_major": 2,
       "version_minor": 0,
       "model_id": "9ea6a5e751ad45fca95440b288fc89df"
      }
     },
     "metadata": {},
     "output_type": "display_data"
    }
   ],
   "source": [
    "\n",
    "in_dataset = prep_dataset(\"wmt16\", \"de-en\", tokenizer=tokenizer, train_max_size=0, validation_max_size=1000,\n",
    "                          test_max_size=100)\n",
    "out_dataset = prep_dataset(\"wmt16\", \"ro-en\", tokenizer=tokenizer, train_max_size=1000, validation_max_size=1000,\n",
    "                           test_max_size=100)\n",
    "\n",
    "# For the sake of this example we only use 100 samples to keep things quick!\n",
    "in_val = in_dataset[1]\n",
    "in_test = in_dataset[2]\n",
    "out_test = out_dataset[2]\n",
    "\n",
    "del in_dataset\n",
    "del out_dataset\n"
   ],
   "metadata": {
    "collapsed": false
   }
  },
  {
   "cell_type": "code",
   "execution_count": 26,
   "outputs": [],
   "source": [
    "# Make dataloader\n",
    "in_val_loader = DataLoader(in_val, shuffle=False, batch_size=4)\n",
    "in_test_loader = DataLoader(in_test, shuffle=False, batch_size=4)\n",
    "out_test_loader = DataLoader(out_test, shuffle=False, batch_size=4)\n"
   ],
   "metadata": {
    "collapsed": false
   }
  },
  {
   "cell_type": "markdown",
   "source": [
    "## Feature based filters\n"
   ],
   "metadata": {
    "collapsed": false
   }
  },
  {
   "cell_type": "code",
   "execution_count": 26,
   "outputs": [],
   "source": [
    "\n"
   ],
   "metadata": {
    "collapsed": false
   }
  },
  {
   "cell_type": "markdown",
   "source": [
    "### Mahalanobis"
   ],
   "metadata": {
    "collapsed": false
   }
  },
  {
   "cell_type": "code",
   "execution_count": 27,
   "outputs": [],
   "source": [
    "from Todd import MahalanobisScorer\n",
    "\n",
    "maha_detector = MahalanobisScorer(layers=[6])\n"
   ],
   "metadata": {
    "collapsed": false
   }
  },
  {
   "cell_type": "code",
   "execution_count": 28,
   "outputs": [
    {
     "data": {
      "text/plain": "defaultdict(list, {})"
     },
     "execution_count": 28,
     "metadata": {},
     "output_type": "execute_result"
    }
   ],
   "source": [
    "maha_detector.accumulated_embeddings"
   ],
   "metadata": {
    "collapsed": false
   }
  },
  {
   "cell_type": "code",
   "execution_count": 33,
   "outputs": [
    {
     "name": "stderr",
     "output_type": "stream",
     "text": [
      "/home/mdarrin/.local/lib/python3.10/site-packages/transformers/generation/utils.py:1273: UserWarning: Neither `max_length` nor `max_new_tokens` has been set, `max_length` will default to 512 (`generation_config.max_length`). Controlling `max_length` via the config is deprecated and `max_length` will be removed from the config in v5 of Transformers -- we recommend using `max_new_tokens` to control the maximum length of the generation.\n",
      "  warnings.warn(\n"
     ]
    },
    {
     "ename": "AttributeError",
     "evalue": "'MahalanobisScorer' object has no attribute 'accumulated_embeddings'",
     "output_type": "error",
     "traceback": [
      "\u001B[0;31m---------------------------------------------------------------------------\u001B[0m",
      "\u001B[0;31mAttributeError\u001B[0m                            Traceback (most recent call last)",
      "Cell \u001B[0;32mIn[33], line 19\u001B[0m\n\u001B[1;32m     10\u001B[0m             output \u001B[38;5;241m=\u001B[39m model\u001B[38;5;241m.\u001B[39mgenerate(\n\u001B[1;32m     11\u001B[0m                 \u001B[38;5;241m*\u001B[39m\u001B[38;5;241m*\u001B[39minputs,\n\u001B[1;32m     12\u001B[0m                 return_dict_in_generate\u001B[38;5;241m=\u001B[39m\u001B[38;5;28;01mTrue\u001B[39;00m,\n\u001B[1;32m     13\u001B[0m                 output_hidden_states\u001B[38;5;241m=\u001B[39m\u001B[38;5;28;01mTrue\u001B[39;00m,\n\u001B[1;32m     14\u001B[0m                 output_scores\u001B[38;5;241m=\u001B[39m\u001B[38;5;28;01mTrue\u001B[39;00m,\n\u001B[1;32m     15\u001B[0m             )\n\u001B[1;32m     17\u001B[0m             scorer\u001B[38;5;241m.\u001B[39maccumulate(output)\n\u001B[0;32m---> 19\u001B[0m \u001B[43mprepare_embeddings\u001B[49m\u001B[43m(\u001B[49m\u001B[43mmaha_detector\u001B[49m\u001B[43m,\u001B[49m\u001B[43m \u001B[49m\u001B[43mloader\u001B[49m\u001B[38;5;241;43m=\u001B[39;49m\u001B[43min_val_loader\u001B[49m\u001B[43m)\u001B[49m\n\u001B[1;32m     20\u001B[0m maha_detector\u001B[38;5;241m.\u001B[39mfit()\n",
      "Cell \u001B[0;32mIn[33], line 17\u001B[0m, in \u001B[0;36mprepare_embeddings\u001B[0;34m(scorer, loader)\u001B[0m\n\u001B[1;32m      7\u001B[0m inputs \u001B[38;5;241m=\u001B[39m tokenizer(\n\u001B[1;32m      8\u001B[0m     batch[\u001B[38;5;124m\"\u001B[39m\u001B[38;5;124msource\u001B[39m\u001B[38;5;124m\"\u001B[39m], padding\u001B[38;5;241m=\u001B[39m\u001B[38;5;28;01mTrue\u001B[39;00m, truncation\u001B[38;5;241m=\u001B[39m\u001B[38;5;28;01mTrue\u001B[39;00m, return_tensors\u001B[38;5;241m=\u001B[39m\u001B[38;5;124m\"\u001B[39m\u001B[38;5;124mpt\u001B[39m\u001B[38;5;124m\"\u001B[39m\n\u001B[1;32m      9\u001B[0m )\n\u001B[1;32m     10\u001B[0m output \u001B[38;5;241m=\u001B[39m model\u001B[38;5;241m.\u001B[39mgenerate(\n\u001B[1;32m     11\u001B[0m     \u001B[38;5;241m*\u001B[39m\u001B[38;5;241m*\u001B[39minputs,\n\u001B[1;32m     12\u001B[0m     return_dict_in_generate\u001B[38;5;241m=\u001B[39m\u001B[38;5;28;01mTrue\u001B[39;00m,\n\u001B[1;32m     13\u001B[0m     output_hidden_states\u001B[38;5;241m=\u001B[39m\u001B[38;5;28;01mTrue\u001B[39;00m,\n\u001B[1;32m     14\u001B[0m     output_scores\u001B[38;5;241m=\u001B[39m\u001B[38;5;28;01mTrue\u001B[39;00m,\n\u001B[1;32m     15\u001B[0m )\n\u001B[0;32m---> 17\u001B[0m \u001B[43mscorer\u001B[49m\u001B[38;5;241;43m.\u001B[39;49m\u001B[43maccumulate\u001B[49m\u001B[43m(\u001B[49m\u001B[43moutput\u001B[49m\u001B[43m)\u001B[49m\n",
      "File \u001B[0;32m~/Documents/phd/transformers/ToddProject/Todd/Todd/featuresscorers.py:39\u001B[0m, in \u001B[0;36mMahalanobisScorer.accumulate\u001B[0;34m(self, output, y)\u001B[0m\n\u001B[1;32m     30\u001B[0m \u001B[38;5;28;01mdef\u001B[39;00m \u001B[38;5;21maccumulate\u001B[39m(\u001B[38;5;28mself\u001B[39m, output: ModelOutput, y: Optional[List[\u001B[38;5;28mint\u001B[39m]] \u001B[38;5;241m=\u001B[39m \u001B[38;5;28;01mNone\u001B[39;00m) \u001B[38;5;241m-\u001B[39m\u001B[38;5;241m>\u001B[39m \u001B[38;5;28;01mNone\u001B[39;00m:\n\u001B[1;32m     31\u001B[0m \u001B[38;5;250m    \u001B[39m\u001B[38;5;124;03m\"\"\"\u001B[39;00m\n\u001B[1;32m     32\u001B[0m \u001B[38;5;124;03m    Accumulate the embeddings of the input sequences in the scorer. To be used before fitting\u001B[39;00m\n\u001B[1;32m     33\u001B[0m \u001B[38;5;124;03m    the scorer with self.fit.\u001B[39;00m\n\u001B[0;32m   (...)\u001B[0m\n\u001B[1;32m     36\u001B[0m \u001B[38;5;124;03m    @param y: classes of the input sequences (used to build per class references)\u001B[39;00m\n\u001B[1;32m     37\u001B[0m \u001B[38;5;124;03m    \"\"\"\u001B[39;00m\n\u001B[0;32m---> 39\u001B[0m     \u001B[38;5;28;43mself\u001B[39;49m\u001B[38;5;241;43m.\u001B[39;49m\u001B[43mextract_batch_embeddings\u001B[49m\u001B[43m(\u001B[49m\n\u001B[1;32m     40\u001B[0m \u001B[43m        \u001B[49m\u001B[43moutput\u001B[49m\u001B[38;5;241;43m=\u001B[39;49m\u001B[43moutput\u001B[49m\u001B[43m,\u001B[49m\n\u001B[1;32m     41\u001B[0m \u001B[43m        \u001B[49m\u001B[43my\u001B[49m\u001B[38;5;241;43m=\u001B[39;49m\u001B[43my\u001B[49m\u001B[43m,\u001B[49m\n\u001B[1;32m     42\u001B[0m \u001B[43m    \u001B[49m\u001B[43m)\u001B[49m\n",
      "File \u001B[0;32m~/Documents/phd/transformers/ToddProject/Todd/Todd/basescorers.py:141\u001B[0m, in \u001B[0;36mHiddenStateBasedScorers.extract_batch_embeddings\u001B[0;34m(self, output, y)\u001B[0m\n\u001B[1;32m    139\u001B[0m \u001B[38;5;66;03m# Append the embeddings to the list of embeddings for the layer\u001B[39;00m\n\u001B[1;32m    140\u001B[0m \u001B[38;5;28;01mif\u001B[39;00m y \u001B[38;5;129;01mis\u001B[39;00m \u001B[38;5;28;01mNone\u001B[39;00m:\n\u001B[0;32m--> 141\u001B[0m     \u001B[38;5;28;43mself\u001B[39;49m\u001B[38;5;241;43m.\u001B[39;49m\u001B[43maccumulated_embeddings\u001B[49m[(layer, \u001B[38;5;241m0\u001B[39m)]\u001B[38;5;241m.\u001B[39mextend(emb\u001B[38;5;241m.\u001B[39mdetach()\u001B[38;5;241m.\u001B[39mcpu())\n\u001B[1;32m    142\u001B[0m \u001B[38;5;28;01melse\u001B[39;00m:\n\u001B[1;32m    143\u001B[0m     \u001B[38;5;28;01mfor\u001B[39;00m i \u001B[38;5;129;01min\u001B[39;00m \u001B[38;5;28mrange\u001B[39m(emb\u001B[38;5;241m.\u001B[39mshape[\u001B[38;5;241m0\u001B[39m]):\n",
      "\u001B[0;31mAttributeError\u001B[0m: 'MahalanobisScorer' object has no attribute 'accumulated_embeddings'"
     ]
    }
   ],
   "source": [
    "# Accumulate reference embeddings\n",
    "\n",
    "\n",
    "def prepare_embeddings(scorer, loader):\n",
    "    with torch.no_grad():\n",
    "        for batch in loader:\n",
    "            inputs = tokenizer(\n",
    "                batch[\"source\"], padding=True, truncation=True, return_tensors=\"pt\"\n",
    "            )\n",
    "            output = model.generate(\n",
    "                **inputs,\n",
    "                return_dict_in_generate=True,\n",
    "                output_hidden_states=True,\n",
    "                output_scores=True,\n",
    "            )\n",
    "\n",
    "            scorer.accumulate(output)\n",
    "\n",
    "prepare_embeddings(maha_detector, loader=in_val_loader)\n",
    "maha_detector.fit()"
   ],
   "metadata": {
    "collapsed": false
   }
  },
  {
   "cell_type": "code",
   "execution_count": 30,
   "outputs": [
    {
     "name": "stdout",
     "output_type": "stream",
     "text": [
      "tensor([6124.3984, 3304.8125, 3317.0156, 2627.2996])\n",
      "tensor([13637.9580, 10162.7705,  7508.2700,  9693.5605])\n"
     ]
    }
   ],
   "source": [
    "\n",
    "def eval_loader(loader):\n",
    "    with torch.no_grad():\n",
    "        for batch in loader:\n",
    "            inputs = tokenizer(\n",
    "                batch[\"source\"], padding=True, truncation=True, return_tensors=\"pt\"\n",
    "            )\n",
    "            output = model.generate(\n",
    "                **inputs,\n",
    "                return_dict_in_generate=True,\n",
    "                output_hidden_states=True,\n",
    "                output_scores=True,\n",
    "            )\n",
    "\n",
    "            print(maha_detector(output))\n",
    "            break\n",
    "\n",
    "\n",
    "eval_loader(in_test_loader)\n",
    "eval_loader(out_test_loader)"
   ],
   "metadata": {
    "collapsed": false
   }
  },
  {
   "cell_type": "markdown",
   "source": [
    "### Cosine\n",
    "\n"
   ],
   "metadata": {
    "collapsed": false
   }
  },
  {
   "cell_type": "code",
   "execution_count": 35,
   "outputs": [
    {
     "name": "stdout",
     "output_type": "stream",
     "text": [
      "IN\n"
     ]
    },
    {
     "ename": "RuntimeError",
     "evalue": "stack expects a non-empty TensorList",
     "output_type": "error",
     "traceback": [
      "\u001B[0;31m---------------------------------------------------------------------------\u001B[0m",
      "\u001B[0;31mRuntimeError\u001B[0m                              Traceback (most recent call last)",
      "Cell \u001B[0;32mIn[35], line 27\u001B[0m\n\u001B[1;32m     23\u001B[0m             \u001B[38;5;28;01mbreak\u001B[39;00m\n\u001B[1;32m     26\u001B[0m \u001B[38;5;28mprint\u001B[39m(\u001B[38;5;124m\"\u001B[39m\u001B[38;5;124mIN\u001B[39m\u001B[38;5;124m\"\u001B[39m)\n\u001B[0;32m---> 27\u001B[0m \u001B[43meval_loader\u001B[49m\u001B[43m(\u001B[49m\u001B[43min_test_loader\u001B[49m\u001B[43m)\u001B[49m\n\u001B[1;32m     28\u001B[0m \u001B[38;5;28mprint\u001B[39m(\u001B[38;5;124m\"\u001B[39m\u001B[38;5;124mOUT\u001B[39m\u001B[38;5;124m\"\u001B[39m)\n\u001B[1;32m     29\u001B[0m eval_loader(out_test_loader)\n",
      "Cell \u001B[0;32mIn[35], line 22\u001B[0m, in \u001B[0;36meval_loader\u001B[0;34m(loader)\u001B[0m\n\u001B[1;32m     14\u001B[0m output \u001B[38;5;241m=\u001B[39m model\u001B[38;5;241m.\u001B[39mgenerate(\n\u001B[1;32m     15\u001B[0m     \u001B[38;5;241m*\u001B[39m\u001B[38;5;241m*\u001B[39minputs,\n\u001B[1;32m     16\u001B[0m     return_dict_in_generate\u001B[38;5;241m=\u001B[39m\u001B[38;5;28;01mTrue\u001B[39;00m,\n\u001B[1;32m     17\u001B[0m     output_hidden_states\u001B[38;5;241m=\u001B[39m\u001B[38;5;28;01mTrue\u001B[39;00m,\n\u001B[1;32m     18\u001B[0m     output_scores\u001B[38;5;241m=\u001B[39m\u001B[38;5;28;01mTrue\u001B[39;00m,\n\u001B[1;32m     19\u001B[0m )\n\u001B[1;32m     21\u001B[0m \u001B[38;5;66;03m# print(cosine_detector.compute_scores(output))\u001B[39;00m\n\u001B[0;32m---> 22\u001B[0m \u001B[38;5;28mprint\u001B[39m(\u001B[43mcosine_detector\u001B[49m\u001B[43m(\u001B[49m\u001B[43moutput\u001B[49m\u001B[43m)\u001B[49m)\n\u001B[1;32m     23\u001B[0m \u001B[38;5;28;01mbreak\u001B[39;00m\n",
      "File \u001B[0;32m~/Documents/phd/transformers/ToddProject/Todd/Todd/basescorers.py:58\u001B[0m, in \u001B[0;36mScorer.__call__\u001B[0;34m(self, *args, **kwargs)\u001B[0m\n\u001B[1;32m     57\u001B[0m \u001B[38;5;28;01mdef\u001B[39;00m \u001B[38;5;21m__call__\u001B[39m(\u001B[38;5;28mself\u001B[39m, \u001B[38;5;241m*\u001B[39margs, \u001B[38;5;241m*\u001B[39m\u001B[38;5;241m*\u001B[39mkwargs):\n\u001B[0;32m---> 58\u001B[0m     \u001B[38;5;28;01mreturn\u001B[39;00m \u001B[38;5;28;43mself\u001B[39;49m\u001B[38;5;241;43m.\u001B[39;49m\u001B[43mcompute_scores\u001B[49m\u001B[43m(\u001B[49m\u001B[38;5;241;43m*\u001B[39;49m\u001B[43margs\u001B[49m\u001B[43m,\u001B[49m\u001B[43m \u001B[49m\u001B[38;5;241;43m*\u001B[39;49m\u001B[38;5;241;43m*\u001B[39;49m\u001B[43mkwargs\u001B[49m\u001B[43m)\u001B[49m\n",
      "File \u001B[0;32m~/Documents/phd/transformers/ToddProject/Todd/Todd/featuresscorers.py:277\u001B[0m, in \u001B[0;36mCosineProjectionScorer.compute_scores\u001B[0;34m(self, output)\u001B[0m\n\u001B[1;32m    271\u001B[0m scores \u001B[38;5;241m=\u001B[39m \u001B[38;5;28mself\u001B[39m\u001B[38;5;241m.\u001B[39mcompute_per_layer_per_class_disimilarity(output)\n\u001B[1;32m    273\u001B[0m \u001B[38;5;66;03m# We take the minimum score over the layer\u001B[39;00m\n\u001B[1;32m    274\u001B[0m \u001B[38;5;66;03m# ie the score of the layer that is the less OOD\u001B[39;00m\n\u001B[1;32m    275\u001B[0m \u001B[38;5;66;03m# And we decide that it's the OOD score of that sample\u001B[39;00m\n\u001B[1;32m    276\u001B[0m \u001B[38;5;66;03m# Todo: Change this behavior: choose one particular layer or better aggregation\u001B[39;00m\n\u001B[0;32m--> 277\u001B[0m scores \u001B[38;5;241m=\u001B[39m \u001B[43mtorch\u001B[49m\u001B[38;5;241;43m.\u001B[39;49m\u001B[43mstack\u001B[49m\u001B[43m(\u001B[49m\u001B[43m[\u001B[49m\u001B[43mscores\u001B[49m\u001B[43m[\u001B[49m\u001B[43m(\u001B[49m\u001B[43mlayer\u001B[49m\u001B[43m,\u001B[49m\u001B[43m \u001B[49m\u001B[43mcl\u001B[49m\u001B[43m)\u001B[49m\u001B[43m]\u001B[49m\u001B[43m \u001B[49m\u001B[38;5;28;43;01mfor\u001B[39;49;00m\u001B[43m \u001B[49m\u001B[43mlayer\u001B[49m\u001B[43m,\u001B[49m\u001B[43m \u001B[49m\u001B[43mcl\u001B[49m\u001B[43m \u001B[49m\u001B[38;5;129;43;01min\u001B[39;49;00m\u001B[43m \u001B[49m\u001B[43mscores\u001B[49m\u001B[38;5;241;43m.\u001B[39;49m\u001B[43mkeys\u001B[49m\u001B[43m(\u001B[49m\u001B[43m)\u001B[49m\u001B[43m]\u001B[49m\u001B[43m)\u001B[49m\u001B[38;5;241m.\u001B[39mmin(\n\u001B[1;32m    278\u001B[0m     dim\u001B[38;5;241m=\u001B[39m\u001B[38;5;241m0\u001B[39m\n\u001B[1;32m    279\u001B[0m )[\u001B[38;5;241m0\u001B[39m]\n\u001B[1;32m    281\u001B[0m \u001B[38;5;28;01mreturn\u001B[39;00m scores\n",
      "\u001B[0;31mRuntimeError\u001B[0m: stack expects a non-empty TensorList"
     ]
    }
   ],
   "source": [
    "from Todd.featuresscorers import CosineProjectionScorer\n",
    "\n",
    "cosine_detector = CosineProjectionScorer(layers=[6])\n",
    "\n",
    "prepare_embeddings(scorer=cosine_detector, loader=in_val_loader)\n",
    "\n",
    "\n",
    "def eval_loader(loader):\n",
    "    with torch.no_grad():\n",
    "        for batch in loader:\n",
    "            inputs = tokenizer(\n",
    "                batch[\"source\"], padding=True, truncation=True, return_tensors=\"pt\"\n",
    "            )\n",
    "            output = model.generate(\n",
    "                **inputs,\n",
    "                return_dict_in_generate=True,\n",
    "                output_hidden_states=True,\n",
    "                output_scores=True,\n",
    "            )\n",
    "\n",
    "            # print(cosine_detector.compute_scores(output))\n",
    "            print(cosine_detector(output))\n",
    "            break\n",
    "\n",
    "\n",
    "print(\"IN\")\n",
    "eval_loader(in_test_loader)\n",
    "print(\"OUT\")\n",
    "eval_loader(out_test_loader)\n"
   ],
   "metadata": {
    "collapsed": false
   }
  },
  {
   "cell_type": "markdown",
   "source": [
    "## Decoder based filters"
   ],
   "metadata": {
    "collapsed": false
   }
  },
  {
   "cell_type": "code",
   "execution_count": null,
   "outputs": [],
   "source": [
    "from Todd.itscorers import SequenceRenyiNegScorer"
   ],
   "metadata": {
    "collapsed": false
   }
  },
  {
   "cell_type": "code",
   "execution_count": null,
   "outputs": [],
   "source": [],
   "metadata": {
    "collapsed": false
   }
  },
  {
   "cell_type": "markdown",
   "source": [
    "### Output mode\n",
    "\n",
    "It output a score / a filter on each sequence returned for each sample in the batch"
   ],
   "metadata": {
    "collapsed": false
   }
  },
  {
   "cell_type": "code",
   "execution_count": null,
   "outputs": [],
   "source": [
    "\n",
    "renyi_entropy_scorer = SequenceRenyiNegScorer(pad_token_id=tokenizer.pad_token_id, mode=\"output\",\n",
    "                                              num_return_sequences=2, num_beam=2, batch_size=4)\n",
    "\n",
    "\n",
    "def eval_loader(loader):\n",
    "    with torch.no_grad():\n",
    "        for batch in loader:\n",
    "            inputs = tokenizer(\n",
    "                batch[\"source\"], padding=True, truncation=True, return_tensors=\"pt\"\n",
    "            )\n",
    "            output = model.generate(\n",
    "                **inputs,\n",
    "                return_dict_in_generate=True,\n",
    "                output_hidden_states=True,\n",
    "                output_scores=True,\n",
    "                num_return_sequences=2,\n",
    "                num_beams=2,\n",
    "                do_sample=False,\n",
    "            )\n",
    "\n",
    "            print(renyi_entropy_scorer(\n",
    "                output,\n",
    "            ))\n",
    "\n",
    "            print(renyi_entropy_scorer.compute_scores(\n",
    "                output,\n",
    "            ))\n",
    "            del output\n",
    "            break\n",
    "\n",
    "\n",
    "print(\"IN DATA\")\n",
    "eval_loader(in_test_loader)\n",
    "print(\"OUT DATA\")\n",
    "eval_loader(out_test_loader)\n"
   ],
   "metadata": {
    "collapsed": false
   }
  },
  {
   "cell_type": "markdown",
   "source": [
    "### Input Mode\n",
    "It only returns a score for each sample in the bach by aggregating the scores of the generated sequences."
   ],
   "metadata": {
    "collapsed": false
   }
  },
  {
   "cell_type": "code",
   "execution_count": null,
   "outputs": [],
   "source": [
    "renyi_entropy_scorer = SequenceRenyiNegScorer(pad_token_id=tokenizer.pad_token_id, mode=\"input\",\n",
    "                                              batch_size=4,\n",
    "                                              num_return_sequences=2,\n",
    "                                              num_beam=2)\n",
    "\n",
    "\n",
    "def eval_loader(loader):\n",
    "    with torch.no_grad():\n",
    "        for batch in loader:\n",
    "            inputs = tokenizer(\n",
    "                batch[\"source\"], padding=True, truncation=True, return_tensors=\"pt\"\n",
    "            )\n",
    "            output = model.generate(\n",
    "                **inputs,\n",
    "                return_dict_in_generate=True,\n",
    "                output_hidden_states=True,\n",
    "                output_scores=True,\n",
    "                num_return_sequences=2,\n",
    "                num_beams=2,\n",
    "                do_sample=False,\n",
    "            )\n",
    "\n",
    "            print(renyi_entropy_scorer(\n",
    "                output,\n",
    "\n",
    "            ))\n",
    "\n",
    "            print(renyi_entropy_scorer.compute_scores(\n",
    "                output,\n",
    "            ))\n",
    "            del output\n",
    "            break\n",
    "\n",
    "\n",
    "print(\"IN DATA\")\n",
    "eval_loader(in_test_loader)\n",
    "\n",
    "print(\"OUT DATA\")\n",
    "eval_loader(out_test_loader)\n"
   ],
   "metadata": {
    "collapsed": false
   }
  },
  {
   "cell_type": "markdown",
   "source": [
    "### Beam ranking using Info-projection"
   ],
   "metadata": {
    "collapsed": false
   }
  },
  {
   "cell_type": "code",
   "execution_count": null,
   "outputs": [],
   "source": [],
   "metadata": {
    "collapsed": false
   }
  },
  {
   "cell_type": "code",
   "execution_count": null,
   "outputs": [],
   "source": [
    "from Todd.itscorers import BeamRenyiInformationProjection"
   ],
   "metadata": {
    "collapsed": false
   }
  },
  {
   "cell_type": "code",
   "execution_count": null,
   "outputs": [],
   "source": [
    "# Make dataloader\n",
    "# Smaller batch so it runs on CPU and fits in memory\n",
    "in_val_loader = DataLoader(in_val, shuffle=False, batch_size=6)\n",
    "in_test_loader = DataLoader(in_test, shuffle=False, batch_size=6)\n",
    "out_test_loader = DataLoader(out_test, shuffle=False, batch_size=6)\n"
   ],
   "metadata": {
    "collapsed": false
   }
  },
  {
   "cell_type": "code",
   "execution_count": null,
   "outputs": [],
   "source": [
    "batch_self_projector = BeamRenyiInformationProjection(pad_token_id=tokenizer.pad_token_id, mode=\"input\",\n",
    "                                                      use_soft_projection=True, n_neighbors=2,\n",
    "                                                      num_return_sequences=4,\n",
    "                                                      num_beams=2)\n",
    "\n",
    "\n",
    "def eval_loader(loader):\n",
    "    with torch.no_grad():\n",
    "        for batch in loader:\n",
    "            inputs = tokenizer(\n",
    "                batch[\"source\"], padding=True, truncation=True, return_tensors=\"pt\"\n",
    "            )\n",
    "            output = model.generate(\n",
    "                **inputs,\n",
    "                return_dict_in_generate=True,\n",
    "                output_hidden_states=True,\n",
    "                output_scores=True,\n",
    "                num_return_sequences=4,\n",
    "                num_beams=4,\n",
    "                do_sample=False,\n",
    "            )\n",
    "\n",
    "            candidate_scores = batch_self_projector.per_output_scores(\n",
    "                output,\n",
    "\n",
    "            )\n",
    "\n",
    "            candidate_scores, indices = torch.sort(candidate_scores, dim=-1, descending=False)\n",
    "\n",
    "            print(indices)\n",
    "            print(candidate_scores)\n",
    "\n",
    "            print(output.sequences[indices].shape)\n",
    "\n",
    "            del output\n",
    "            break\n",
    "\n",
    "\n",
    "print(\"IN DATA\")\n",
    "eval_loader(in_test_loader)\n",
    "\n",
    "print(\"OUT DATA\")\n",
    "eval_loader(out_test_loader)\n"
   ],
   "metadata": {
    "collapsed": false
   }
  },
  {
   "cell_type": "code",
   "execution_count": null,
   "outputs": [],
   "source": [],
   "metadata": {
    "collapsed": false
   }
  },
  {
   "cell_type": "code",
   "execution_count": null,
   "outputs": [],
   "source": [],
   "metadata": {
    "collapsed": false
   }
  },
  {
   "cell_type": "code",
   "execution_count": null,
   "outputs": [],
   "source": [],
   "metadata": {
    "collapsed": false
   }
  },
  {
   "cell_type": "code",
   "execution_count": null,
   "outputs": [],
   "source": [],
   "metadata": {
    "collapsed": false
   }
  },
  {
   "cell_type": "code",
   "execution_count": null,
   "outputs": [],
   "source": [],
   "metadata": {
    "collapsed": false
   }
  }
 ],
 "metadata": {
  "kernelspec": {
   "display_name": "Python 3",
   "language": "python",
   "name": "python3"
  },
  "language_info": {
   "codemirror_mode": {
    "name": "ipython",
    "version": 2
   },
   "file_extension": ".py",
   "mimetype": "text/x-python",
   "name": "python",
   "nbconvert_exporter": "python",
   "pygments_lexer": "ipython2",
   "version": "2.7.6"
  }
 },
 "nbformat": 4,
 "nbformat_minor": 0
}
